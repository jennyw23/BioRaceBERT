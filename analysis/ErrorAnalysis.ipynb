{
 "cells": [
  {
   "cell_type": "markdown",
   "id": "8bc7e135",
   "metadata": {},
   "source": [
    "# Error Analysis: Where Does Bio Go Wrong, and When Does Bio Surpass Name?\n",
    "\n",
    "Name classifiers do poorly for certain people. We created a bio classifier to see if we could improve upon existing off-the-shelf name classification methods. In the following analysis, we answer these questions:\n",
    "1. Who did BioRaceBERT classify incorrectly? Why? (how much does it relate to our ground truth labels?)\n",
    "2. How much better did BioRaceBERT do compared to RaceBERT (name classifier)?\n",
    "3. How much of RaceBERT's \"errors\" were possibly due to ground truth label issues?\n",
    "4. What information does BioRaceBERT give the model that RaceBERT does not?\n",
    "\n",
    "# Looking at the Errors\n",
    "Name classifiers are not doing well for certain people.\n",
    "We will use bio classifiers to see if it does better. We see that bios do better, but we don’t know why it does better.\n",
    "Our hypothesis is that names, locations, ethnicities make the impact (we could be wrong)\n",
    "\n",
    "Let’s look at why ChatGPT and IMDb are disagreeing\n",
    "\n",
    "Is it that the classifier is wrong, or that IMDb ground truth is wrong? There will be some overlap between where bio classifier is wrong\n",
    "- 600 IMDb and ChatGPT\n",
    "- 250 incorrect bio classifications\n",
    "- Look at the overlap between the two\n",
    "\n",
    "We want to talk about why the bio is going wrong (label why they are wrong and have the labels of chatgpt and IMDb disagreeing)\n",
    "\n",
    "^ can show the figure of the failures\n",
    "\n",
    "Bio classifier failures"
   ]
  },
  {
   "cell_type": "markdown",
   "id": "f0f2e793",
   "metadata": {},
   "source": [
    "## Bio Classifier Failures"
   ]
  },
  {
   "cell_type": "code",
   "execution_count": 2,
   "id": "c0c66b31",
   "metadata": {},
   "outputs": [
    {
     "data": {
      "text/html": [
       "<div>\n",
       "<style scoped>\n",
       "    .dataframe tbody tr th:only-of-type {\n",
       "        vertical-align: middle;\n",
       "    }\n",
       "\n",
       "    .dataframe tbody tr th {\n",
       "        vertical-align: top;\n",
       "    }\n",
       "\n",
       "    .dataframe thead th {\n",
       "        text-align: right;\n",
       "    }\n",
       "</style>\n",
       "<table border=\"1\" class=\"dataframe\">\n",
       "  <thead>\n",
       "    <tr style=\"text-align: right;\">\n",
       "      <th></th>\n",
       "      <th>index</th>\n",
       "      <th>name</th>\n",
       "      <th>href</th>\n",
       "      <th>race</th>\n",
       "      <th>race_cat</th>\n",
       "      <th>role</th>\n",
       "      <th>image</th>\n",
       "      <th>bio</th>\n",
       "      <th>Asian</th>\n",
       "      <th>Black</th>\n",
       "      <th>Hispanic</th>\n",
       "      <th>White</th>\n",
       "      <th>pred</th>\n",
       "      <th>pred_cat</th>\n",
       "    </tr>\n",
       "  </thead>\n",
       "  <tbody>\n",
       "    <tr>\n",
       "      <th>0</th>\n",
       "      <td>0</td>\n",
       "      <td>Ang Lee</td>\n",
       "      <td>/name/nm0000487</td>\n",
       "      <td>Asian</td>\n",
       "      <td>0</td>\n",
       "      <td>Filmmaker</td>\n",
       "      <td>https://m.media-amazon.com/images/M/MV5BODA2MT...</td>\n",
       "      <td>Born in 1954 in Pingtung, Taiwan, Ang Lee has ...</td>\n",
       "      <td>0.998528</td>\n",
       "      <td>0.000619</td>\n",
       "      <td>0.000518</td>\n",
       "      <td>0.000335</td>\n",
       "      <td>Asian</td>\n",
       "      <td>0</td>\n",
       "    </tr>\n",
       "    <tr>\n",
       "      <th>1</th>\n",
       "      <td>1</td>\n",
       "      <td>James Wan</td>\n",
       "      <td>/name/nm1490123</td>\n",
       "      <td>Asian</td>\n",
       "      <td>0</td>\n",
       "      <td>Filmmaker</td>\n",
       "      <td>https://m.media-amazon.com/images/M/MV5BMTY5Nz...</td>\n",
       "      <td>James Wan (born 26 February 1977) is an Austra...</td>\n",
       "      <td>0.999404</td>\n",
       "      <td>0.000226</td>\n",
       "      <td>0.000254</td>\n",
       "      <td>0.000116</td>\n",
       "      <td>Asian</td>\n",
       "      <td>0</td>\n",
       "    </tr>\n",
       "    <tr>\n",
       "      <th>2</th>\n",
       "      <td>2</td>\n",
       "      <td>Jon M. Chu</td>\n",
       "      <td>/name/nm0160840</td>\n",
       "      <td>Asian</td>\n",
       "      <td>0</td>\n",
       "      <td>Filmmaker</td>\n",
       "      <td>https://m.media-amazon.com/images/M/MV5BNDM0Nj...</td>\n",
       "      <td>Jon is an alumni of the USC School of Cinema-T...</td>\n",
       "      <td>0.786494</td>\n",
       "      <td>0.032934</td>\n",
       "      <td>0.010506</td>\n",
       "      <td>0.170067</td>\n",
       "      <td>Asian</td>\n",
       "      <td>0</td>\n",
       "    </tr>\n",
       "    <tr>\n",
       "      <th>3</th>\n",
       "      <td>3</td>\n",
       "      <td>Taika Waititi</td>\n",
       "      <td>/name/nm0169806</td>\n",
       "      <td>Asian</td>\n",
       "      <td>0</td>\n",
       "      <td>Filmmaker</td>\n",
       "      <td>https://m.media-amazon.com/images/M/MV5BMzk4MD...</td>\n",
       "      <td>Taika Waititi, also known as Taika Cohen, hail...</td>\n",
       "      <td>0.997836</td>\n",
       "      <td>0.000499</td>\n",
       "      <td>0.000410</td>\n",
       "      <td>0.001255</td>\n",
       "      <td>Asian</td>\n",
       "      <td>0</td>\n",
       "    </tr>\n",
       "    <tr>\n",
       "      <th>4</th>\n",
       "      <td>4</td>\n",
       "      <td>Karyn Kusama</td>\n",
       "      <td>/name/nm0476201</td>\n",
       "      <td>Asian</td>\n",
       "      <td>0</td>\n",
       "      <td>Filmmaker</td>\n",
       "      <td>https://m.media-amazon.com/images/M/MV5BMTUzMT...</td>\n",
       "      <td>Karyn Kusama was born on March 21, 1968 in Bro...</td>\n",
       "      <td>0.897697</td>\n",
       "      <td>0.055229</td>\n",
       "      <td>0.026547</td>\n",
       "      <td>0.020527</td>\n",
       "      <td>Asian</td>\n",
       "      <td>0</td>\n",
       "    </tr>\n",
       "  </tbody>\n",
       "</table>\n",
       "</div>"
      ],
      "text/plain": [
       "   index           name             href   race  race_cat       role  \\\n",
       "0      0        Ang Lee  /name/nm0000487  Asian         0  Filmmaker   \n",
       "1      1      James Wan  /name/nm1490123  Asian         0  Filmmaker   \n",
       "2      2     Jon M. Chu  /name/nm0160840  Asian         0  Filmmaker   \n",
       "3      3  Taika Waititi  /name/nm0169806  Asian         0  Filmmaker   \n",
       "4      4   Karyn Kusama  /name/nm0476201  Asian         0  Filmmaker   \n",
       "\n",
       "                                               image  \\\n",
       "0  https://m.media-amazon.com/images/M/MV5BODA2MT...   \n",
       "1  https://m.media-amazon.com/images/M/MV5BMTY5Nz...   \n",
       "2  https://m.media-amazon.com/images/M/MV5BNDM0Nj...   \n",
       "3  https://m.media-amazon.com/images/M/MV5BMzk4MD...   \n",
       "4  https://m.media-amazon.com/images/M/MV5BMTUzMT...   \n",
       "\n",
       "                                                 bio     Asian     Black  \\\n",
       "0  Born in 1954 in Pingtung, Taiwan, Ang Lee has ...  0.998528  0.000619   \n",
       "1  James Wan (born 26 February 1977) is an Austra...  0.999404  0.000226   \n",
       "2  Jon is an alumni of the USC School of Cinema-T...  0.786494  0.032934   \n",
       "3  Taika Waititi, also known as Taika Cohen, hail...  0.997836  0.000499   \n",
       "4  Karyn Kusama was born on March 21, 1968 in Bro...  0.897697  0.055229   \n",
       "\n",
       "   Hispanic     White   pred  pred_cat  \n",
       "0  0.000518  0.000335  Asian         0  \n",
       "1  0.000254  0.000116  Asian         0  \n",
       "2  0.010506  0.170067  Asian         0  \n",
       "3  0.000410  0.001255  Asian         0  \n",
       "4  0.026547  0.020527  Asian         0  "
      ]
     },
     "execution_count": 2,
     "metadata": {},
     "output_type": "execute_result"
    }
   ],
   "source": [
    "import pandas as pd\n",
    "import numpy as np\n",
    "\n",
    "root_dir = \"..\"\n",
    "bios = pd.read_csv(f\"{root_dir}/data/BioRaceBERT-final.csv\")\n",
    "\n",
    "bios.head()"
   ]
  },
  {
   "cell_type": "code",
   "execution_count": 18,
   "id": "bb6248de",
   "metadata": {},
   "outputs": [
    {
     "name": "stdout",
     "output_type": "stream",
     "text": [
      "BioRaceBERT failed on 244 out of 5201 people in the dataset.\n",
      "This is an error rate of 4.6914%\n"
     ]
    }
   ],
   "source": [
    "errors = bios[bios[\"race_cat\"] != bios[\"pred_cat\"]]\n",
    "print(f'''BioRaceBERT failed on {len(errors)} out of {len(bios)} people in the dataset.\n",
    "This is an error rate of {len(errors)/len(bios)*100:.4f}%''')"
   ]
  },
  {
   "cell_type": "markdown",
   "id": "ea3599f1",
   "metadata": {},
   "source": [
    "I saved these errors in a Google Sheet called `FailureAnalysis`, and do more data exploring there:\n",
    "\n",
    "https://docs.google.com/spreadsheets/d/1IM_SMCTtHwrif-c8pgdyWuK7q-7_fyjFrXql8H9Milk/edit#gid=806628892"
   ]
  },
  {
   "cell_type": "code",
   "execution_count": 87,
   "id": "bf71548f",
   "metadata": {},
   "outputs": [
    {
     "data": {
      "text/html": [
       "<div>\n",
       "<style scoped>\n",
       "    .dataframe tbody tr th:only-of-type {\n",
       "        vertical-align: middle;\n",
       "    }\n",
       "\n",
       "    .dataframe tbody tr th {\n",
       "        vertical-align: top;\n",
       "    }\n",
       "\n",
       "    .dataframe thead th {\n",
       "        text-align: right;\n",
       "    }\n",
       "</style>\n",
       "<table border=\"1\" class=\"dataframe\">\n",
       "  <thead>\n",
       "    <tr style=\"text-align: right;\">\n",
       "      <th></th>\n",
       "      <th>index</th>\n",
       "      <th>name</th>\n",
       "      <th>href</th>\n",
       "      <th>id</th>\n",
       "      <th>race</th>\n",
       "      <th>race_cat</th>\n",
       "      <th>role</th>\n",
       "      <th>image</th>\n",
       "      <th>bio</th>\n",
       "      <th>Asian</th>\n",
       "      <th>...</th>\n",
       "      <th>IMDb</th>\n",
       "      <th>pred</th>\n",
       "      <th>pred_cat</th>\n",
       "      <th>correct_pred</th>\n",
       "      <th>GPT1</th>\n",
       "      <th>GPT2</th>\n",
       "      <th>Wikipedia</th>\n",
       "      <th>Agreement</th>\n",
       "      <th>Reason</th>\n",
       "      <th>Notes</th>\n",
       "    </tr>\n",
       "  </thead>\n",
       "  <tbody>\n",
       "    <tr>\n",
       "      <th>0</th>\n",
       "      <td>2706</td>\n",
       "      <td>Demi Moore</td>\n",
       "      <td>/name/nm0000193</td>\n",
       "      <td>193</td>\n",
       "      <td>White</td>\n",
       "      <td>3</td>\n",
       "      <td>Actor or Actress</td>\n",
       "      <td>https://m.media-amazon.com/images/M/MV5BMTc2Mj...</td>\n",
       "      <td>Demi Moore was born 1962 in Roswell, New Mexic...</td>\n",
       "      <td>0.03%</td>\n",
       "      <td>...</td>\n",
       "      <td>White</td>\n",
       "      <td>Hispanic</td>\n",
       "      <td>2</td>\n",
       "      <td>False</td>\n",
       "      <td>White</td>\n",
       "      <td>White</td>\n",
       "      <td>NaN</td>\n",
       "      <td>White</td>\n",
       "      <td>Interests, experience, or wording indicate dif...</td>\n",
       "      <td>New Mexico was possibly mistaken as Mexico</td>\n",
       "    </tr>\n",
       "  </tbody>\n",
       "</table>\n",
       "<p>1 rows × 23 columns</p>\n",
       "</div>"
      ],
      "text/plain": [
       "   index        name             href   id   race  race_cat              role  \\\n",
       "0   2706  Demi Moore  /name/nm0000193  193  White         3  Actor or Actress   \n",
       "\n",
       "                                               image  \\\n",
       "0  https://m.media-amazon.com/images/M/MV5BMTc2Mj...   \n",
       "\n",
       "                                                 bio  Asian  ...   IMDb  \\\n",
       "0  Demi Moore was born 1962 in Roswell, New Mexic...  0.03%  ...  White   \n",
       "\n",
       "       pred pred_cat correct_pred   GPT1   GPT2  Wikipedia Agreement  \\\n",
       "0  Hispanic        2        False  White  White        NaN     White   \n",
       "\n",
       "                                              Reason  \\\n",
       "0  Interests, experience, or wording indicate dif...   \n",
       "\n",
       "                                        Notes  \n",
       "0  New Mexico was possibly mistaken as Mexico  \n",
       "\n",
       "[1 rows x 23 columns]"
      ]
     },
     "execution_count": 87,
     "metadata": {},
     "output_type": "execute_result"
    }
   ],
   "source": [
    "root_dir = \"..\"\n",
    "error_df = pd.read_csv(f\"{root_dir}/data/error_analysis/failure_analysis.csv\")\n",
    "error_df.head(1)"
   ]
  },
  {
   "cell_type": "code",
   "execution_count": 96,
   "id": "3751ebfb",
   "metadata": {},
   "outputs": [
    {
     "name": "stdout",
     "output_type": "stream",
     "text": [
      "                                               index  Reason\n",
      "0  Provides uninformative family or birth/living ...      88\n",
      "1                            Autogenerated IMDb info      51\n",
      "2  Emphasizes professional roles and/or education...      35\n",
      "3  Ground truth disagreement/incorrect ground tru...      22\n",
      "4          Complex race boundaries and/or mixed race      14\n",
      "5  Mentions other names, ethnicities, or location...      13\n",
      "6  Interests, experience, or wording indicate dif...      10\n",
      "7  Classifier predicted poorly given bio information      10\n",
      "8                                    Not enough text       1\n"
     ]
    },
    {
     "data": {
      "image/png": "[encoded data removed]",
      "text/plain": [
       "<Figure size 1000x600 with 1 Axes>"
      ]
     },
     "metadata": {},
     "output_type": "display_data"
    }
   ],
   "source": [
    "import matplotlib.pyplot as plt\n",
    "import textwrap\n",
    "\n",
    "# Sample data\n",
    "category_counts = error_df['Reason'].value_counts().reset_index()\n",
    "print(category_counts)\n",
    "\n",
    "plt.figure(figsize=(10, 6))  # Adjust the figure size as needed\n",
    "\n",
    "# Wrap the long category labels for better display\n",
    "category_counts['index'] = category_counts['index'].apply(lambda x: '\\n'.join(textwrap.wrap(x, width=30)))\n",
    "\n",
    "# Generate a list of unique colors for each bar\n",
    "unique_colors = plt.cm.tab20.colors[:len(category_counts)]\n",
    "\n",
    "bars = plt.barh(category_counts['index'], category_counts['Reason'], color=unique_colors)\n",
    "plt.xlabel('Count')\n",
    "# plt.ylabel('Category')\n",
    "# plt.title('Counts by Category')\n",
    "\n",
    "# Set the font size to resemble Stata's default font for both numbers and text\n",
    "font_properties = {'family': 'serif', 'weight': 'normal', 'size': 12}\n",
    "plt.rc('font', **font_properties)\n",
    "\n",
    "# Adjust the space for the bar text and move it slightly to the right\n",
    "for bar in bars:\n",
    "    width = bar.get_width()\n",
    "    plt.text(width + 1.5, bar.get_y() + bar.get_height() / 2, f'{int(width)}', ha='center', va='center')\n",
    "\n",
    "# Save the chart as an image\n",
    "plt.tight_layout()  # Ensures labels are not cut off\n",
    "plt.savefig(f'{root_dir}/figures/failure_reason_chart.png', dpi=300)  # Specify the desired file name and format\n",
    "plt.show()\n"
   ]
  },
  {
   "cell_type": "markdown",
   "id": "ec7dcacf",
   "metadata": {},
   "source": [
    "## Name Classifier Failures\n",
    "\n",
    "Gets failures from all three name classifiers"
   ]
  },
  {
   "cell_type": "code",
   "execution_count": 31,
   "id": "fd7afd3a",
   "metadata": {},
   "outputs": [],
   "source": [
    "import pandas as pd\n",
    "import numpy as np\n",
    "\n",
    "root_dir = \"..\"\n",
    "nameprism = pd.read_csv(f\"{root_dir}/data/name_classification/final_sample_nameprism.csv\")\n",
    "ethnicolr = pd.read_csv(f\"{root_dir}/data/name_classification/final_sample_ethnicolr.csv\")\n",
    "racebert = pd.read_csv(f\"{root_dir}/data/name_classification/final_sample_racebert.csv\")"
   ]
  },
  {
   "cell_type": "code",
   "execution_count": 26,
   "id": "b477cf75",
   "metadata": {},
   "outputs": [],
   "source": [
    "def get_failures(df, categories: list):\n",
    "    '''\n",
    "    Gets failed names from probability columns of name classifiers.\n",
    "    \n",
    "    Requires: df must contain probs from name classifier \n",
    "    Returns: pandas df\n",
    "    '''\n",
    "\n",
    "    # Get category value\n",
    "    df[\"race\"] = df[\"race\"].astype(\"category\")\n",
    "    df[\"race_cat\"] = df[\"race\"].cat.codes\n",
    "\n",
    "    # Get prediction value\n",
    "    df[\"pred_cat\"] = np.argmax(df[categories].to_numpy(), axis=1)\n",
    "\n",
    "    # Filter if true label is different from prediction \n",
    "    failures = df[df[\"race_cat\"] != df[\"pred_cat\"]]\n",
    "\n",
    "    print(f\"Name classification failed on {len(failures)} names out of {len(df)}. {len(failures)/len(df)*100:.2f}% error rate\")\n",
    "    return failures"
   ]
  },
  {
   "cell_type": "code",
   "execution_count": 97,
   "id": "b3acc893",
   "metadata": {},
   "outputs": [
    {
     "name": "stdout",
     "output_type": "stream",
     "text": [
      "Name classification failed on 2219 names out of 5201. 42.66% error rate\n",
      "Name classification failed on 2218 names out of 5201. 42.65% error rate\n",
      "Name classification failed on 1776 names out of 5201. 34.15% error rate\n"
     ]
    },
    {
     "data": {
      "text/plain": [
       "6213"
      ]
     },
     "execution_count": 97,
     "metadata": {},
     "output_type": "execute_result"
    }
   ],
   "source": [
    "# Compile list of people who the name classifiers incorrectly classified.\n",
    "nameprism_fail = get_failures(nameprism, categories=[\"Asian\", \"Black\", \"Hispanic\", \"White\", \"AIAN\", \"2PRACE\"])\n",
    "ethnicolr_fail = get_failures(ethnicolr, categories=[\"Asian\", \"Black\", \"Hispanic\", \"White\"])\n",
    "racebert_fail = get_failures(racebert, categories=[\"Asian\", \"Black\", \"Hispanic\", \"White\", \"aian\"])\n",
    "\n",
    "failures = pd.concat([nameprism_fail, ethnicolr_fail, racebert_fail])\n",
    "len(failures)"
   ]
  },
  {
   "cell_type": "code",
   "execution_count": 99,
   "id": "c7c5001e",
   "metadata": {},
   "outputs": [
    {
     "name": "stdout",
     "output_type": "stream",
     "text": [
      "how many of 0 errors were ground truth disagreements? 543\n",
      "how many of 1 errors were ground truth disagreements? 517\n",
      "how many of 2 errors were ground truth disagreements? 501\n"
     ]
    }
   ],
   "source": [
    "name_classifiers = [nameprism_fail, ethnicolr_fail, racebert_fail]\n",
    "for i, model in enumerate(name_classifiers):\n",
    "    q = f\"how many of {i} errors were ground truth disagreements?\"\n",
    "    a = model.merge(disagreement, how=\"inner\", on=\"href\")\n",
    "    print(f\"{q} {len(a)}\")"
   ]
  },
  {
   "cell_type": "code",
   "execution_count": 70,
   "id": "954a83f9",
   "metadata": {},
   "outputs": [
    {
     "data": {
      "text/html": [
       "<div>\n",
       "<style scoped>\n",
       "    .dataframe tbody tr th:only-of-type {\n",
       "        vertical-align: middle;\n",
       "    }\n",
       "\n",
       "    .dataframe tbody tr th {\n",
       "        vertical-align: top;\n",
       "    }\n",
       "\n",
       "    .dataframe thead th {\n",
       "        text-align: right;\n",
       "    }\n",
       "</style>\n",
       "<table border=\"1\" class=\"dataframe\">\n",
       "  <thead>\n",
       "    <tr style=\"text-align: right;\">\n",
       "      <th></th>\n",
       "      <th>name</th>\n",
       "      <th>href</th>\n",
       "      <th>race</th>\n",
       "      <th>role</th>\n",
       "      <th>image</th>\n",
       "    </tr>\n",
       "  </thead>\n",
       "  <tbody>\n",
       "    <tr>\n",
       "      <th>3</th>\n",
       "      <td>Taika Waititi</td>\n",
       "      <td>/name/nm0169806</td>\n",
       "      <td>Asian</td>\n",
       "      <td>Filmmaker</td>\n",
       "      <td>https://m.media-amazon.com/images/M/MV5BMzk4MD...</td>\n",
       "    </tr>\n",
       "    <tr>\n",
       "      <th>4</th>\n",
       "      <td>Karyn Kusama</td>\n",
       "      <td>/name/nm0476201</td>\n",
       "      <td>Asian</td>\n",
       "      <td>Filmmaker</td>\n",
       "      <td>https://m.media-amazon.com/images/M/MV5BMTUzMT...</td>\n",
       "    </tr>\n",
       "    <tr>\n",
       "      <th>5</th>\n",
       "      <td>Destin Daniel Cretton</td>\n",
       "      <td>/name/nm2308774</td>\n",
       "      <td>Asian</td>\n",
       "      <td>Filmmaker</td>\n",
       "      <td>https://m.media-amazon.com/images/M/MV5BMGQ1NT...</td>\n",
       "    </tr>\n",
       "    <tr>\n",
       "      <th>7</th>\n",
       "      <td>Ramin Bahrani</td>\n",
       "      <td>/name/nm1023919</td>\n",
       "      <td>Asian</td>\n",
       "      <td>Filmmaker</td>\n",
       "      <td>https://m.media-amazon.com/images/M/MV5BNTIwYT...</td>\n",
       "    </tr>\n",
       "    <tr>\n",
       "      <th>10</th>\n",
       "      <td>Joseph Kahn</td>\n",
       "      <td>/name/nm0994538</td>\n",
       "      <td>Asian</td>\n",
       "      <td>Filmmaker</td>\n",
       "      <td>https://m.media-amazon.com/images/M/MV5BMTM4OT...</td>\n",
       "    </tr>\n",
       "  </tbody>\n",
       "</table>\n",
       "</div>"
      ],
      "text/plain": [
       "                     name             href   race       role  \\\n",
       "3           Taika Waititi  /name/nm0169806  Asian  Filmmaker   \n",
       "4            Karyn Kusama  /name/nm0476201  Asian  Filmmaker   \n",
       "5   Destin Daniel Cretton  /name/nm2308774  Asian  Filmmaker   \n",
       "7           Ramin Bahrani  /name/nm1023919  Asian  Filmmaker   \n",
       "10            Joseph Kahn  /name/nm0994538  Asian  Filmmaker   \n",
       "\n",
       "                                                image  \n",
       "3   https://m.media-amazon.com/images/M/MV5BMzk4MD...  \n",
       "4   https://m.media-amazon.com/images/M/MV5BMTUzMT...  \n",
       "5   https://m.media-amazon.com/images/M/MV5BMGQ1NT...  \n",
       "7   https://m.media-amazon.com/images/M/MV5BNTIwYT...  \n",
       "10  https://m.media-amazon.com/images/M/MV5BMTM4OT...  "
      ]
     },
     "execution_count": 70,
     "metadata": {},
     "output_type": "execute_result"
    }
   ],
   "source": [
    "failures = failures.drop_duplicates(subset=[\"href\"])\n",
    "failures = failures.loc[:, \"name\":\"image\"]\n",
    "failures.to_csv(f\"{root_dir}/data/name_classification/final_sample_failures.csv\")\n",
    "failures.head()"
   ]
  },
  {
   "cell_type": "code",
   "execution_count": 71,
   "id": "bcba2e17",
   "metadata": {},
   "outputs": [],
   "source": [
    "# do manual analysis on failures of name classifiers? - decided not to do on all name failures\n",
    "# name_df = pd.read_csv(f\"{root_dir}/name_files/final_sample_failures.csv\", index_col=[0])\n",
    "# bio_df = pd.read_csv(f\"{root_dir}/biography/BioRaceBERT-final.csv\")\n",
    "# print(f\"This dataframe has {len(name_df)}, {len(bio_df)} people\")\n",
    "\n",
    "# merge the bios onto names\n",
    "# name_df = name_df.merge(bio_df[[\"index\", \"bio\"]], left_index=True, right_on=\"index\")\n",
    "# name_df.to_csv(f\"{root_dir}/biography/bios_for_name_failures.csv\", index=False)"
   ]
  },
  {
   "cell_type": "markdown",
   "id": "1b65d9e0",
   "metadata": {},
   "source": [
    "## RaceBERT and BioRaceBERT Failure Overlap\n",
    "\n",
    "The primarily contribution of our work is to see if biography-based race classification can be useful on people where name classification fails. Biographies are more difficult to obtain than names.  We look into the BioRaceBERT failures and consider the overlap with RaceBERT failures. We look specifically at RaceBERT because it is pre-trained on a similar base model.\n",
    "\n",
    "*RaceBERT is built on RoBERTa while BioRaceBERT is fine-tuned on a pre-trained DistilBERT model"
   ]
  },
  {
   "cell_type": "code",
   "execution_count": 54,
   "id": "ab527ef9",
   "metadata": {},
   "outputs": [
    {
     "name": "stdout",
     "output_type": "stream",
     "text": [
      "This dataframe has 1776 people who RaceBERT classified incorrectly\n"
     ]
    }
   ],
   "source": [
    "# manual analysis on RaceBERT\n",
    "root_dir = \"..\"\n",
    "racebert_errors = pd.read_csv(f\"{root_dir}/data/name_classification/final_sample_racebert_failures.csv\", index_col=[0])\n",
    "print(f\"This dataframe has {len(racebert_errors)} people who RaceBERT classified incorrectly\")\n",
    "\n",
    "# racebert_fails = racebert_fails.merge(bio_df[[\"index\", \"bio\"]], left_index=True, right_on=\"index\")\n",
    "# racebert_fails.to_csv(f\"{root_dir}/data/bios_for_racebert_failures.csv\", index=False)"
   ]
  },
  {
   "cell_type": "code",
   "execution_count": 43,
   "id": "16b2a6f8",
   "metadata": {},
   "outputs": [
    {
     "name": "stdout",
     "output_type": "stream",
     "text": [
      "This dataframe has 244 people who BioRaceBERT classified incorrectly\n"
     ]
    }
   ],
   "source": [
    "bios = pd.read_csv(f\"{root_dir}/data/BioRaceBERT-final.csv\")\n",
    "bio_errors = bios[bios[\"race_cat\"] != bios[\"pred_cat\"]]\n",
    "print(f\"This dataframe has {len(bio_errors)} people who BioRaceBERT classified incorrectly\")"
   ]
  },
  {
   "cell_type": "code",
   "execution_count": 53,
   "id": "3df1b372",
   "metadata": {},
   "outputs": [
    {
     "name": "stdout",
     "output_type": "stream",
     "text": [
      "This dataframe has 650 IMDb and ChatGPT ground truth disagreements\n"
     ]
    },
    {
     "data": {
      "text/html": [
       "<div>\n",
       "<style scoped>\n",
       "    .dataframe tbody tr th:only-of-type {\n",
       "        vertical-align: middle;\n",
       "    }\n",
       "\n",
       "    .dataframe tbody tr th {\n",
       "        vertical-align: top;\n",
       "    }\n",
       "\n",
       "    .dataframe thead th {\n",
       "        text-align: right;\n",
       "    }\n",
       "</style>\n",
       "<table border=\"1\" class=\"dataframe\">\n",
       "  <thead>\n",
       "    <tr style=\"text-align: right;\">\n",
       "      <th></th>\n",
       "      <th>name</th>\n",
       "      <th>href</th>\n",
       "      <th>id</th>\n",
       "      <th>IMDb</th>\n",
       "      <th>GPT1</th>\n",
       "      <th>GPT2</th>\n",
       "      <th>Wikipedia</th>\n",
       "      <th>Agreement</th>\n",
       "    </tr>\n",
       "  </thead>\n",
       "  <tbody>\n",
       "    <tr>\n",
       "      <th>20</th>\n",
       "      <td>Rita Hayworth</td>\n",
       "      <td>/name/nm0000028</td>\n",
       "      <td>28</td>\n",
       "      <td>Hispanic/Latino</td>\n",
       "      <td>Hispanic/Latino</td>\n",
       "      <td>White</td>\n",
       "      <td>Hispanic/Latino</td>\n",
       "      <td>DISAGREEMENT</td>\n",
       "    </tr>\n",
       "    <tr>\n",
       "      <th>54</th>\n",
       "      <td>Raquel Welch</td>\n",
       "      <td>/name/nm0000079</td>\n",
       "      <td>79</td>\n",
       "      <td>Hispanic/Latino</td>\n",
       "      <td>White</td>\n",
       "      <td>White</td>\n",
       "      <td>Hispanic/Latino</td>\n",
       "      <td>DISAGREEMENT</td>\n",
       "    </tr>\n",
       "    <tr>\n",
       "      <th>77</th>\n",
       "      <td>Tia Carrere</td>\n",
       "      <td>/name/nm0000119</td>\n",
       "      <td>119</td>\n",
       "      <td>Asian</td>\n",
       "      <td>Mixed (Asian/White)</td>\n",
       "      <td>Asian</td>\n",
       "      <td>Asian</td>\n",
       "      <td>DISAGREEMENT</td>\n",
       "    </tr>\n",
       "    <tr>\n",
       "      <th>93</th>\n",
       "      <td>Cameron Diaz</td>\n",
       "      <td>/name/nm0000139</td>\n",
       "      <td>139</td>\n",
       "      <td>Hispanic/Latino</td>\n",
       "      <td>White</td>\n",
       "      <td>White</td>\n",
       "      <td>Hispanic/Latino</td>\n",
       "      <td>DISAGREEMENT</td>\n",
       "    </tr>\n",
       "    <tr>\n",
       "      <th>140</th>\n",
       "      <td>Keanu Reeves</td>\n",
       "      <td>/name/nm0000206</td>\n",
       "      <td>206</td>\n",
       "      <td>Asian</td>\n",
       "      <td>White</td>\n",
       "      <td>White</td>\n",
       "      <td>Asian</td>\n",
       "      <td>DISAGREEMENT</td>\n",
       "    </tr>\n",
       "  </tbody>\n",
       "</table>\n",
       "</div>"
      ],
      "text/plain": [
       "              name             href   id             IMDb  \\\n",
       "20   Rita Hayworth  /name/nm0000028   28  Hispanic/Latino   \n",
       "54    Raquel Welch  /name/nm0000079   79  Hispanic/Latino   \n",
       "77     Tia Carrere  /name/nm0000119  119            Asian   \n",
       "93    Cameron Diaz  /name/nm0000139  139  Hispanic/Latino   \n",
       "140   Keanu Reeves  /name/nm0000206  206            Asian   \n",
       "\n",
       "                    GPT1   GPT2        Wikipedia     Agreement  \n",
       "20       Hispanic/Latino  White  Hispanic/Latino  DISAGREEMENT  \n",
       "54                 White  White  Hispanic/Latino  DISAGREEMENT  \n",
       "77   Mixed (Asian/White)  Asian            Asian  DISAGREEMENT  \n",
       "93                 White  White  Hispanic/Latino  DISAGREEMENT  \n",
       "140                White  White            Asian  DISAGREEMENT  "
      ]
     },
     "execution_count": 53,
     "metadata": {},
     "output_type": "execute_result"
    }
   ],
   "source": [
    "ground_truth = pd.read_csv(f\"{root_dir}/data/RaceEthnicityGroundTruth.csv\")\n",
    "disagreement = ground_truth[ground_truth[\"Agreement\"] == \"DISAGREEMENT\"]\n",
    "print(f\"This dataframe has {len(disagreement)} IMDb and ChatGPT ground truth disagreements\")\n",
    "disagreement.head()"
   ]
  },
  {
   "cell_type": "code",
   "execution_count": 67,
   "id": "ed60fafc",
   "metadata": {},
   "outputs": [
    {
     "name": "stdout",
     "output_type": "stream",
     "text": [
      "how many of RaceBERT errors were ground truth disagreements? 501\n",
      "how many of BioRaceBERT errors were ground truth disagreements? 82\n",
      "how many common errors do RaceBERT and BioRaceBERT have? 155\n",
      "how many common errors between RaceBERT and BioRaceBERT were related to ground truth disagreement? 76\n"
     ]
    }
   ],
   "source": [
    "q = \"how many of RaceBERT errors were ground truth disagreements?\"\n",
    "a = racebert_errors.merge(disagreement, how=\"inner\", on=\"href\")\n",
    "print(f\"{q} {len(a)}\")\n",
    "\n",
    "q = \"how many of BioRaceBERT errors were ground truth disagreements?\"\n",
    "b = bio_errors.merge(disagreement, how=\"inner\", on=\"href\")\n",
    "print(f\"{q} {len(b)}\")\n",
    "\n",
    "q = \"how many common errors do RaceBERT and BioRaceBERT have?\"\n",
    "c = bio_errors.merge(racebert_errors, how=\"inner\", on=\"href\")\n",
    "print(f\"{q} {len(c)}\")\n",
    "\n",
    "q = \"how many common errors between RaceBERT and BioRaceBERT were related to ground truth disagreement?\"\n",
    "d = c.merge(disagreement, how=\"inner\", on=\"href\")\n",
    "print(f\"{q} {len(d)}\")\n"
   ]
  },
  {
   "cell_type": "code",
   "execution_count": 68,
   "id": "a318fb25",
   "metadata": {},
   "outputs": [
    {
     "name": "stdout",
     "output_type": "stream",
     "text": [
      "what % of RaceBERT errors were ground truth disagreements? 28.21%\n",
      "what % of BioRaceBERT errors were ground truth disagreements? 33.61%\n",
      "what % of common errors do RaceBERT and BioRaceBERT have? 8.73% of RaceBERT and 63.52% of BioRaceBERT\n",
      "what % of common errors between RaceBERT and BioRaceBERT were related to ground truth disagreement? 49.03%\n"
     ]
    }
   ],
   "source": [
    "q = \"what % of RaceBERT errors were ground truth disagreements?\"\n",
    "a = racebert_errors.merge(disagreement, how=\"inner\", on=\"href\")\n",
    "print(f\"{q} {len(a)/len(racebert_errors)*100:.2f}%\")\n",
    "\n",
    "q = \"what % of BioRaceBERT errors were ground truth disagreements?\"\n",
    "b = bio_errors.merge(disagreement, how=\"inner\", on=\"href\")\n",
    "print(f\"{q} {len(b)/len(bio_errors)*100:.2f}%\")\n",
    "\n",
    "q = \"what % of common errors do RaceBERT and BioRaceBERT have?\"\n",
    "c = bio_errors.merge(racebert_errors, how=\"inner\", on=\"href\")\n",
    "print(f\"{q} {len(c)/len(racebert_errors)*100:.2f}% of RaceBERT and {len(c)/len(bio_errors)*100:.2f}% of BioRaceBERT\")\n",
    "\n",
    "q = \"what % of common errors between RaceBERT and BioRaceBERT were related to ground truth disagreement?\"\n",
    "d = c.merge(disagreement, how=\"inner\", on=\"href\")\n",
    "print(f\"{q} {len(d)/len(c)*100:.2f}%\")"
   ]
  },
  {
   "cell_type": "code",
   "execution_count": null,
   "id": "7e9979dd",
   "metadata": {},
   "outputs": [],
   "source": []
  },
  {
   "cell_type": "code",
   "execution_count": null,
   "id": "43b2be8b",
   "metadata": {},
   "outputs": [],
   "source": []
  }
 ],
 "metadata": {
  "kernelspec": {
   "display_name": "Python 3 (ipykernel)",
   "language": "python",
   "name": "python3"
  },
  "language_info": {
   "codemirror_mode": {
    "name": "ipython",
    "version": 3
   },
   "file_extension": ".py",
   "mimetype": "text/x-python",
   "name": "python",
   "nbconvert_exporter": "python",
   "pygments_lexer": "ipython3",
   "version": "3.9.5"
  }
 },
 "nbformat": 4,
 "nbformat_minor": 5
}

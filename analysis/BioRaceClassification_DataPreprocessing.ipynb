{
 "cells": [
  {
   "cell_type": "markdown",
   "id": "9ac959ab",
   "metadata": {},
   "source": [
    "# RACE CLASSIFICATION PAPER\n",
    "\n",
    "Task: Build a Distilbert classifier that takes in biography text and makes predictions about the person's race.\n",
    "\n",
    "Steps:\n",
    "- `Local Steps`\n",
    "    - **PREPROCESSING**\n",
    "        1. Preprocess only the `mini_bio` column (note: in my thesis paper, I combined the entire IMDb biography page of text, including trivia, family, etc. if available. [Here](#https://www.imdb.com/name/nm0000329/bio/) is an example of all the text I was previously training the model on.\n",
    "    \n",
    "-  `Colab Steps`\n",
    "    - TRAINING: filename\n",
    "        1. Perform 5-fold cross-validation on train, validation datasets\n",
    "        2. Finetune `distilbert-base-uncased` using four race categories, and save models\n",
    "        3. We needed to use Colab so that the GPU could run faster than my local CPU... Save model in a stable location\n",
    "    - TESTING: filename\n",
    "        1. Run model on the unseen test set (save predictions) and evaluate results"
   ]
  },
  {
   "cell_type": "markdown",
   "id": "7988edf0",
   "metadata": {},
   "source": [
    "## Step 1: Preprocess biography text"
   ]
  },
  {
   "cell_type": "code",
   "execution_count": 1,
   "id": "cd888dca",
   "metadata": {},
   "outputs": [
    {
     "name": "stderr",
     "output_type": "stream",
     "text": [
      "2023-09-07 10:51:02.018408: I tensorflow/core/platform/cpu_feature_guard.cc:182] This TensorFlow binary is optimized to use available CPU instructions in performance-critical operations.\n",
      "To enable the following instructions: AVX2 FMA, in other operations, rebuild TensorFlow with the appropriate compiler flags.\n"
     ]
    }
   ],
   "source": [
    "import pandas as pd\n",
    "import numpy as np\n",
    "import sys\n",
    "sys.path.append(\"../script\")\n",
    "import text_preprocessing\n",
    "\n",
    "root_dir = \"/Users/jennywang/jw10/Summer2023/RaceClassification/data\"\n",
    "df = pd.read_csv(f\"{root_dir}/data/final_sample_metadata.csv\") # before adding tokens\n",
    "df = df.replace(np.nan, \"\", regex=True)\n",
    "\n",
    "# create preprocessed column\n",
    "df[\"tokens\"] = df.apply(lambda row: text_preprocessing.preprocess(row[\"mini_bio\"], lemmatization=True), axis=1)\n",
    "df[\"bio_preprocessed\"] = df.apply(lambda row: ' '.join(row[\"tokens\"]), axis=1)"
   ]
  },
  {
   "cell_type": "code",
   "execution_count": 2,
   "id": "0ad040d9",
   "metadata": {},
   "outputs": [],
   "source": [
    "# clean Mini Bio text\n",
    "def clean_mini_bio(text):\n",
    "    return text.split(\"- IMDb\")[0].strip()\n",
    "\n",
    "df[\"bio\"] = df[\"mini_bio\"].apply(clean_mini_bio)"
   ]
  },
  {
   "cell_type": "code",
   "execution_count": 4,
   "id": "273f1d70",
   "metadata": {},
   "outputs": [
    {
     "data": {
      "text/html": [
       "<div>\n",
       "<style scoped>\n",
       "    .dataframe tbody tr th:only-of-type {\n",
       "        vertical-align: middle;\n",
       "    }\n",
       "\n",
       "    .dataframe tbody tr th {\n",
       "        vertical-align: top;\n",
       "    }\n",
       "\n",
       "    .dataframe thead th {\n",
       "        text-align: right;\n",
       "    }\n",
       "</style>\n",
       "<table border=\"1\" class=\"dataframe\">\n",
       "  <thead>\n",
       "    <tr style=\"text-align: right;\">\n",
       "      <th></th>\n",
       "      <th>name</th>\n",
       "      <th>href</th>\n",
       "      <th>race</th>\n",
       "      <th>role</th>\n",
       "      <th>image</th>\n",
       "      <th>bio</th>\n",
       "      <th>bio_preprocessed</th>\n",
       "    </tr>\n",
       "  </thead>\n",
       "  <tbody>\n",
       "    <tr>\n",
       "      <th>0</th>\n",
       "      <td>Ang Lee</td>\n",
       "      <td>/name/nm0000487</td>\n",
       "      <td>Asian</td>\n",
       "      <td>Filmmaker</td>\n",
       "      <td>https://m.media-amazon.com/images/M/MV5BODA2MT...</td>\n",
       "      <td>Born in 1954 in Pingtung, Taiwan, Ang Lee has ...</td>\n",
       "      <td>bear pingtung taiwan ang lee today great conte...</td>\n",
       "    </tr>\n",
       "    <tr>\n",
       "      <th>1</th>\n",
       "      <td>James Wan</td>\n",
       "      <td>/name/nm1490123</td>\n",
       "      <td>Asian</td>\n",
       "      <td>Filmmaker</td>\n",
       "      <td>https://m.media-amazon.com/images/M/MV5BMTY5Nz...</td>\n",
       "      <td>James Wan (born 26 February 1977) is an Austra...</td>\n",
       "      <td>james wan bear february australian film produc...</td>\n",
       "    </tr>\n",
       "    <tr>\n",
       "      <th>2</th>\n",
       "      <td>Jon M. Chu</td>\n",
       "      <td>/name/nm0160840</td>\n",
       "      <td>Asian</td>\n",
       "      <td>Filmmaker</td>\n",
       "      <td>https://m.media-amazon.com/images/M/MV5BNDM0Nj...</td>\n",
       "      <td>Jon is an alumni of the USC School of Cinema-T...</td>\n",
       "      <td>jon alumnus usc school cinema television win p...</td>\n",
       "    </tr>\n",
       "    <tr>\n",
       "      <th>3</th>\n",
       "      <td>Taika Waititi</td>\n",
       "      <td>/name/nm0169806</td>\n",
       "      <td>Asian</td>\n",
       "      <td>Filmmaker</td>\n",
       "      <td>https://m.media-amazon.com/images/M/MV5BMzk4MD...</td>\n",
       "      <td>Taika Waititi, also known as Taika Cohen, hail...</td>\n",
       "      <td>taika waititi know taika cohen hail raukokore ...</td>\n",
       "    </tr>\n",
       "    <tr>\n",
       "      <th>4</th>\n",
       "      <td>Karyn Kusama</td>\n",
       "      <td>/name/nm0476201</td>\n",
       "      <td>Asian</td>\n",
       "      <td>Filmmaker</td>\n",
       "      <td>https://m.media-amazon.com/images/M/MV5BMTUzMT...</td>\n",
       "      <td>Karyn Kusama was born on March 21, 1968 in Bro...</td>\n",
       "      <td>karyn kusama bear march brooklyn new york usa ...</td>\n",
       "    </tr>\n",
       "  </tbody>\n",
       "</table>\n",
       "</div>"
      ],
      "text/plain": [
       "            name             href   race       role  \\\n",
       "0        Ang Lee  /name/nm0000487  Asian  Filmmaker   \n",
       "1      James Wan  /name/nm1490123  Asian  Filmmaker   \n",
       "2     Jon M. Chu  /name/nm0160840  Asian  Filmmaker   \n",
       "3  Taika Waititi  /name/nm0169806  Asian  Filmmaker   \n",
       "4   Karyn Kusama  /name/nm0476201  Asian  Filmmaker   \n",
       "\n",
       "                                               image  \\\n",
       "0  https://m.media-amazon.com/images/M/MV5BODA2MT...   \n",
       "1  https://m.media-amazon.com/images/M/MV5BMTY5Nz...   \n",
       "2  https://m.media-amazon.com/images/M/MV5BNDM0Nj...   \n",
       "3  https://m.media-amazon.com/images/M/MV5BMzk4MD...   \n",
       "4  https://m.media-amazon.com/images/M/MV5BMTUzMT...   \n",
       "\n",
       "                                                 bio  \\\n",
       "0  Born in 1954 in Pingtung, Taiwan, Ang Lee has ...   \n",
       "1  James Wan (born 26 February 1977) is an Austra...   \n",
       "2  Jon is an alumni of the USC School of Cinema-T...   \n",
       "3  Taika Waititi, also known as Taika Cohen, hail...   \n",
       "4  Karyn Kusama was born on March 21, 1968 in Bro...   \n",
       "\n",
       "                                    bio_preprocessed  \n",
       "0  bear pingtung taiwan ang lee today great conte...  \n",
       "1  james wan bear february australian film produc...  \n",
       "2  jon alumnus usc school cinema television win p...  \n",
       "3  taika waititi know taika cohen hail raukokore ...  \n",
       "4  karyn kusama bear march brooklyn new york usa ...  "
      ]
     },
     "execution_count": 4,
     "metadata": {},
     "output_type": "execute_result"
    }
   ],
   "source": [
    "# only keep relevant columns\n",
    "df = df[[\"name\", \"href\", \"race\", \"role\", \"image\", \"bio\", \"bio_preprocessed\"]]\n",
    "# df.to_csv(f\"{root_dir}/final_sample_preprocessed_new.csv\", index=False)\n",
    "df.to_csv(f\"{root_dir}/data/cleaned_final_sample_metadata.csv\", index=False)\n",
    "df.head()"
   ]
  },
  {
   "cell_type": "markdown",
   "id": "2ee47d14",
   "metadata": {},
   "source": [
    "# End\n",
    "\n",
    "We've reached the end of the preprocessing step. Next, we use the \"metadata\" text to build a biography-based race classifier. Please see the README for the following notebook."
   ]
  }
 ],
 "metadata": {
  "kernelspec": {
   "display_name": "Python 3 (ipykernel)",
   "language": "python",
   "name": "python3"
  },
  "language_info": {
   "codemirror_mode": {
    "name": "ipython",
    "version": 3
   },
   "file_extension": ".py",
   "mimetype": "text/x-python",
   "name": "python",
   "nbconvert_exporter": "python",
   "pygments_lexer": "ipython3",
   "version": "3.9.5"
  }
 },
 "nbformat": 4,
 "nbformat_minor": 5
}
